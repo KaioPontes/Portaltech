{
  "nbformat": 4,
  "nbformat_minor": 0,
  "metadata": {
    "colab": {
      "provenance": [],
      "authorship_tag": "ABX9TyPD+2G10DyfhPQ1PRQ6eJ5j",
      "include_colab_link": true
    },
    "kernelspec": {
      "name": "python3",
      "display_name": "Python 3"
    },
    "language_info": {
      "name": "python"
    }
  },
  "cells": [
    {
      "cell_type": "markdown",
      "metadata": {
        "id": "view-in-github",
        "colab_type": "text"
      },
      "source": [
        "<a href=\"https://colab.research.google.com/github/KaioPontes/Portaltech/blob/main/Desenvolvimento_3.ipynb\" target=\"_parent\"><img src=\"https://colab.research.google.com/assets/colab-badge.svg\" alt=\"Open In Colab\"/></a>"
      ]
    },
    {
      "cell_type": "code",
      "source": [
        "for i in range(20,-1,-1):\n",
        "  if (i ==13):\n",
        "    continue\n",
        "  print(i,\"ºAndar\")"
      ],
      "metadata": {
        "id": "zU65kLh76NYf"
      },
      "execution_count": null,
      "outputs": []
    },
    {
      "cell_type": "code",
      "source": [
        "for i in range(20,-1,-1):\n",
        "  if(i ==13):\n",
        "    continue\n",
        "  if(i ==-1):\n",
        "    break\n",
        "  print(i,\"ºAndar\")"
      ],
      "metadata": {
        "id": "qKLCuHjyK1uQ"
      },
      "execution_count": null,
      "outputs": []
    },
    {
      "cell_type": "code",
      "source": [
        "i = 21\n",
        "while (i >0):\n",
        "  i = i - 1\n",
        "  if(i ==13):\n",
        "    continue\n",
        "  print(i,\"ºAndar\")\n"
      ],
      "metadata": {
        "id": "Z0uQQmSY7QKd"
      },
      "execution_count": null,
      "outputs": []
    }
  ]
}
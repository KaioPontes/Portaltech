{
  "nbformat": 4,
  "nbformat_minor": 0,
  "metadata": {
    "colab": {
      "provenance": [],
      "authorship_tag": "ABX9TyPHDshgk+0FsxFE4L7zk/BN",
      "include_colab_link": true
    },
    "kernelspec": {
      "name": "python3",
      "display_name": "Python 3"
    },
    "language_info": {
      "name": "python"
    }
  },
  "cells": [
    {
      "cell_type": "markdown",
      "metadata": {
        "id": "view-in-github",
        "colab_type": "text"
      },
      "source": [
        "<a href=\"https://colab.research.google.com/github/KaioPontes/Portaltech/blob/main/Desenvolvimento_4.ipynb\" target=\"_parent\"><img src=\"https://colab.research.google.com/assets/colab-badge.svg\" alt=\"Open In Colab\"/></a>"
      ]
    },
    {
      "cell_type": "markdown",
      "source": [
        "Faça uma função calculadora de dois números com três parâmetros: os dois primeiros serão os números da operação e o terceiro será a entrada que definirá a operação a ser executada. Considera a seguinte definição:\n",
        "1. Soma\n",
        "2. Subtração\n",
        "3. Multiplicação\n",
        "4. Divisão\n",
        "\n",
        "Caso seja inserido um número de operação que não exista, o resultado deverá ser 0."
      ],
      "metadata": {
        "id": "6xUvj9Qi-rd8"
      }
    },
    {
      "cell_type": "code",
      "source": [
        "def escrever_soma(num1, num2):\n",
        "  soma = num1 + num2\n",
        "  resultado = str(num1) + \" + \" + str(num2) + \" = \" + str(soma)\n",
        "  return resultado\n",
        "\n",
        "resposta = escrever_soma(40,5)\n",
        "print(\"Resultado é:\", resposta)"
      ],
      "metadata": {
        "colab": {
          "base_uri": "https://localhost:8080/"
        },
        "id": "Dn4EJxW0-tun",
        "outputId": "7a008815-e6e8-4f58-c50a-54f22d211332"
      },
      "execution_count": 13,
      "outputs": [
        {
          "output_type": "stream",
          "name": "stdout",
          "text": [
            "Resultado é: 40 + 5 = 45\n"
          ]
        }
      ]
    },
    {
      "cell_type": "code",
      "source": [
        "def escrever_subtracao(num3, num4):\n",
        "  subtracao = num3 - num4\n",
        "  resultado = str(num3) + \" - \" + str(num4) + \" = \" + str(subtracao)\n",
        "  return resultado\n",
        "\n",
        "resposta = escrever_subtracao(15,48)\n",
        "print(\"Resultado é:\", resposta)"
      ],
      "metadata": {
        "colab": {
          "base_uri": "https://localhost:8080/"
        },
        "id": "g92bekRUCeiG",
        "outputId": "c8fb222d-bdc2-4e80-ec34-ffe89f233a7c"
      },
      "execution_count": 14,
      "outputs": [
        {
          "output_type": "stream",
          "name": "stdout",
          "text": [
            "Resultado é: 15 - 48 = -33\n"
          ]
        }
      ]
    },
    {
      "cell_type": "code",
      "source": [
        "def escrever_multiplicacao (num5, num6):\n",
        "  multiplicacao = num5 * num6\n",
        "  resultado = str(num5) + \" x \" + str(num6) + \" = \" + str(multiplicacao)\n",
        "  return resultado\n",
        "\n",
        "resposta = escrever_multiplicacao(512,2)\n",
        "print(\"Resultado é:\", resposta)"
      ],
      "metadata": {
        "colab": {
          "base_uri": "https://localhost:8080/"
        },
        "id": "F2uilnhvDMSa",
        "outputId": "c97ff1f1-ff61-41f4-bfee-1f99aca22c36"
      },
      "execution_count": 15,
      "outputs": [
        {
          "output_type": "stream",
          "name": "stdout",
          "text": [
            "Resultado é: 512 x 2 = 1024\n"
          ]
        }
      ]
    },
    {
      "cell_type": "code",
      "source": [
        "def escrever_divisao(num7, num8):\n",
        "  divisao = num7 / num8\n",
        "  resultado = str(num7) + \" ÷ \" + str(num8) + \" = \" + str(divisao)\n",
        "  return resultado\n",
        "\n",
        "resposta = escrever_divisao(800,40)\n",
        "print(\"Resultado é:\", resposta)"
      ],
      "metadata": {
        "colab": {
          "base_uri": "https://localhost:8080/"
        },
        "id": "PVMJ1B1lD7D3",
        "outputId": "e7285e9d-fca2-4a6b-a615-98e500597b11"
      },
      "execution_count": 12,
      "outputs": [
        {
          "output_type": "stream",
          "name": "stdout",
          "text": [
            "Resultado é: 800 ÷ 40 = 20.0\n"
          ]
        }
      ]
    }
  ]
}
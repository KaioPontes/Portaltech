{
  "nbformat": 4,
  "nbformat_minor": 0,
  "metadata": {
    "colab": {
      "provenance": [],
      "authorship_tag": "ABX9TyOaclCaGXOHmSchbpuWYl83",
      "include_colab_link": true
    },
    "kernelspec": {
      "name": "python3",
      "display_name": "Python 3"
    },
    "language_info": {
      "name": "python"
    }
  },
  "cells": [
    {
      "cell_type": "markdown",
      "metadata": {
        "id": "view-in-github",
        "colab_type": "text"
      },
      "source": [
        "<a href=\"https://colab.research.google.com/github/KaioPontes/Portaltech/blob/main/Desenvolvimento_4.ipynb\" target=\"_parent\"><img src=\"https://colab.research.google.com/assets/colab-badge.svg\" alt=\"Open In Colab\"/></a>"
      ]
    },
    {
      "cell_type": "markdown",
      "source": [
        "Faça uma função calculadora de dois números com três parâmetros: os dois primeiros serão os números da operação e o terceiro será a entrada que definirá a operação a ser executada. Considera a seguinte definição:\n",
        "1. Soma\n",
        "2. Subtração\n",
        "3. Multiplicação\n",
        "4. Divisão\n",
        "\n",
        "Caso seja inserido um número de operação que não exista, o resultado deverá ser 0."
      ],
      "metadata": {
        "id": "6xUvj9Qi-rd8"
      }
    },
    {
      "cell_type": "code",
      "source": [
        "num1 = 0\n",
        "num2 = 0\n",
        "oper = ''\n",
        "\n",
        "if oper =='+':\n",
        "  res = num1 + num2\n",
        "elif oper =='-':\n",
        "  res = num1 - num2\n",
        "elif oper =='*':\n",
        "  res = num1 * num2\n",
        "elif oper =='/':\n",
        "  res = num1 / num2\n",
        "else:\n",
        "  res = '0'\n",
        "print(str(num1) + str(oper) + str(num2) + '=' + str(res))"
      ],
      "metadata": {
        "colab": {
          "base_uri": "https://localhost:8080/"
        },
        "id": "mo-Ml2VeAPgX",
        "outputId": "3d0b1fca-a4ef-4c48-ab3f-8cb1ee8879e5"
      },
      "execution_count": 55,
      "outputs": [
        {
          "output_type": "stream",
          "name": "stdout",
          "text": [
            "00=0\n"
          ]
        }
      ]
    }
  ]
}